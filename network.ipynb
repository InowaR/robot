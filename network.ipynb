{
  "nbformat": 4,
  "nbformat_minor": 0,
  "metadata": {
    "colab": {
      "provenance": [],
      "authorship_tag": "ABX9TyNkhej7Wb9qXxB9+VHmV3rW",
      "include_colab_link": true
    },
    "kernelspec": {
      "name": "python3",
      "display_name": "Python 3"
    },
    "language_info": {
      "name": "python"
    }
  },
  "cells": [
    {
      "cell_type": "markdown",
      "metadata": {
        "id": "view-in-github",
        "colab_type": "text"
      },
      "source": [
        "<a href=\"https://colab.research.google.com/github/InowaR/robot/blob/main/network.ipynb\" target=\"_parent\"><img src=\"https://colab.research.google.com/assets/colab-badge.svg\" alt=\"Open In Colab\"/></a>"
      ]
    },
    {
      "cell_type": "code",
      "execution_count": 8,
      "metadata": {
        "colab": {
          "base_uri": "https://localhost:8080/"
        },
        "id": "M0JYLphscPN1",
        "outputId": "97a6cb69-4d3f-4552-ed86-fa71cd48170c"
      },
      "outputs": [
        {
          "output_type": "stream",
          "name": "stdout",
          "text": [
            "[[0. 1. 0.]]\n"
          ]
        }
      ],
      "source": [
        "import numpy as np\n",
        "import pickle\n",
        "\n",
        "def train(X, Y):\n",
        "  learning_rate = 1\n",
        "  w1 = np.random.random((3,9))\n",
        "  w2 = np.random.random((9,3)) \n",
        "  w3 = np.random.random((3,3))\n",
        "  w4 = np.random.random((3,3))\n",
        "\n",
        "  for i in range(60000):\n",
        "    S1 = 1 / (1 + np.exp(-(np.dot(X, w1))))\n",
        "    S2 = 1 / (1 + np.exp(-(np.dot(S1, w2))))\n",
        "    S3 = 1 / (1 + np.exp(-(np.dot(S2, w3))))\n",
        "    S4 = 1 / (1 + np.exp(-(np.dot(S3, w4))))\n",
        "    S4_delta = (Y - S4) * (S4 * (1 - S4))\n",
        "    S3_delta = S4_delta.dot(w4.T) * (S3 * (1 - S3))\n",
        "    S2_delta = S3_delta.dot(w3.T) * (S2 * (1 - S2))\n",
        "    S1_delta = S2_delta.dot(w2.T) * (S1 * (1 - S1))\n",
        "    w4 += learning_rate * S3.T.dot(S4_delta)\n",
        "    w3 += learning_rate * S2.T.dot(S3_delta)\n",
        "    w2 += learning_rate * S1.T.dot(S2_delta)\n",
        "    w1 += learning_rate * X.T.dot(S1_delta)\n",
        "  return w1, w2, w3, w4\n",
        "\n",
        "def predict(test, w1, w2, w3, w4):\n",
        "  S1 = 1 / (1 + np.exp(-(np.dot(test, w1))))\n",
        "  S2 = 1 / (1 + np.exp(-(np.dot(S1, w2))))\n",
        "  S3 = 1 / (1 + np.exp(-(np.dot(S2, w3))))\n",
        "  S4 = 1 / (1 + np.exp(-(np.dot(S3, w4))))\n",
        "  return S4\n",
        "\n",
        "def main():\n",
        "  a = train(X, Y)\n",
        "  w1, w2, w3, w4 = a\n",
        "  b = predict(test, w1, w2, w3, w4)\n",
        "  print(np.round(b,2))\n",
        "\n",
        "if __name__ == \"__main__\":\n",
        "  with open('radar_array.txt', 'rb') as out_X:\n",
        "      X = []\n",
        "      while True:\n",
        "          try:\n",
        "              X.append(pickle.load(out_X))\n",
        "          except EOFError:\n",
        "              break\n",
        "  X = np.array(X[0])\n",
        "  with open('button_array.txt', 'rb') as out_Y:\n",
        "      Y = []\n",
        "      while True:\n",
        "          try:\n",
        "            Y.append(pickle.load(out_Y))\n",
        "          except EOFError:\n",
        "              break\n",
        "  Y = np.array(Y[0])\n",
        "  test = np.array([[2, 5, 5]])\n",
        "  main()"
      ]
    }
  ]
}