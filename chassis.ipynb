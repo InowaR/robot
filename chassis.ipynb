{
  "nbformat": 4,
  "nbformat_minor": 0,
  "metadata": {
    "colab": {
      "provenance": [],
      "authorship_tag": "ABX9TyO/8x1NlfmUUHhCEGkA791y",
      "include_colab_link": true
    },
    "kernelspec": {
      "name": "python3",
      "display_name": "Python 3"
    },
    "language_info": {
      "name": "python"
    }
  },
  "cells": [
    {
      "cell_type": "markdown",
      "metadata": {
        "id": "view-in-github",
        "colab_type": "text"
      },
      "source": [
        "<a href=\"https://colab.research.google.com/github/InowaR/robot/blob/main/chassis.ipynb\" target=\"_parent\"><img src=\"https://colab.research.google.com/assets/colab-badge.svg\" alt=\"Open In Colab\"/></a>"
      ]
    },
    {
      "cell_type": "code",
      "execution_count": 51,
      "metadata": {
        "id": "QKKvf5YA5iKL",
        "colab": {
          "base_uri": "https://localhost:8080/"
        },
        "outputId": "be55cc7d-dab6-47d4-94e6-b9925bd181fe"
      },
      "outputs": [
        {
          "output_type": "stream",
          "name": "stdout",
          "text": [
            "Start left wheel 0 seconds\n",
            "End left wheel\n",
            "Start right wheel 2 seconds\n",
            "End right wheel\n",
            "Start forward 2 seconds\n",
            "End forward\n"
          ]
        }
      ],
      "source": [
        "import time\n",
        "\n",
        "def forward(out1):\n",
        "  print(f\"Start forward {out1} seconds\")\n",
        "  time.sleep(out1)\n",
        "  print(\"End forward\")\n",
        "\n",
        "def left_wheel(out2):\n",
        "  print(f\"Start left wheel {out2} seconds\")\n",
        "  time.sleep(out2)\n",
        "  print(\"End left wheel\")\n",
        "\n",
        "def right_wheel(out3):\n",
        "  print(f\"Start right wheel {out3} seconds\")\n",
        "  time.sleep(out3)\n",
        "  print(\"End right wheel\")\n",
        "\n",
        "def move(out1, out2, out3):\n",
        "  left_wheel(out2)\n",
        "  right_wheel(out3)\n",
        "  forward(out1)\n",
        "\n",
        "def agent():\n",
        "  sensors = [2,0,2]\n",
        "  left, right, forward = sensors\n",
        "  return left, right, forward\n",
        "\n",
        "def main():\n",
        "  left, right, forward = agent()\n",
        "  move(left, right, forward)\n",
        "\n",
        "main()"
      ]
    }
  ]
}