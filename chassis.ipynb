{
  "nbformat": 4,
  "nbformat_minor": 0,
  "metadata": {
    "colab": {
      "provenance": [],
      "authorship_tag": "ABX9TyOoKz48Unh4jdR5/Js3cgN9",
      "include_colab_link": true
    },
    "kernelspec": {
      "name": "python3",
      "display_name": "Python 3"
    },
    "language_info": {
      "name": "python"
    }
  },
  "cells": [
    {
      "cell_type": "markdown",
      "metadata": {
        "id": "view-in-github",
        "colab_type": "text"
      },
      "source": [
        "<a href=\"https://colab.research.google.com/github/InowaR/robot/blob/main/chassis.ipynb\" target=\"_parent\"><img src=\"https://colab.research.google.com/assets/colab-badge.svg\" alt=\"Open In Colab\"/></a>"
      ]
    },
    {
      "cell_type": "code",
      "execution_count": 1,
      "metadata": {
        "id": "QKKvf5YA5iKL",
        "colab": {
          "base_uri": "https://localhost:8080/"
        },
        "outputId": "d84a6f90-e57f-4695-ed9b-5498e70bb4c9"
      },
      "outputs": [
        {
          "output_type": "stream",
          "name": "stdout",
          "text": [
            "Start left wheel 2 seconds\n",
            "End left wheel\n",
            "Start right wheel 0 seconds\n",
            "End right wheel\n",
            "Start forward 2 seconds\n",
            "End forward\n"
          ]
        }
      ],
      "source": [
        "import time\n",
        "\n",
        "def left_wheel(out1):\n",
        "  print(f\"Start left wheel {out1} seconds\")\n",
        "  time.sleep(out1)\n",
        "  print(\"End left wheel\")\n",
        "\n",
        "def right_wheel(out2):\n",
        "  print(f\"Start right wheel {out2} seconds\")\n",
        "  time.sleep(out2)\n",
        "  print(\"End right wheel\")\n",
        "\n",
        "def forward(out3):\n",
        "  print(f\"Start forward {out3} seconds\")\n",
        "  time.sleep(out3)\n",
        "  print(\"End forward\")\n",
        "\n",
        "def move(out1, out2, out3):\n",
        "  left_wheel(out1)\n",
        "  right_wheel(out2)\n",
        "  forward(out3)\n",
        "\n",
        "def agent():\n",
        "  sensors = [2,0,2]\n",
        "  left, right, forward = sensors\n",
        "  return left, right, forward\n",
        "\n",
        "def main():\n",
        "  left, right, forward = agent()\n",
        "  move(left, right, forward)\n",
        "\n",
        "main()"
      ]
    }
  ]
}