{
  "nbformat": 4,
  "nbformat_minor": 0,
  "metadata": {
    "colab": {
      "provenance": [],
      "authorship_tag": "ABX9TyP4uEt587yBviT9LIm9hwip",
      "include_colab_link": true
    },
    "kernelspec": {
      "name": "python3",
      "display_name": "Python 3"
    },
    "language_info": {
      "name": "python"
    }
  },
  "cells": [
    {
      "cell_type": "markdown",
      "metadata": {
        "id": "view-in-github",
        "colab_type": "text"
      },
      "source": [
        "<a href=\"https://colab.research.google.com/github/InowaR/robot/blob/main/chassis.ipynb\" target=\"_parent\"><img src=\"https://colab.research.google.com/assets/colab-badge.svg\" alt=\"Open In Colab\"/></a>"
      ]
    },
    {
      "cell_type": "code",
      "execution_count": 25,
      "metadata": {
        "id": "QKKvf5YA5iKL",
        "colab": {
          "base_uri": "https://localhost:8080/"
        },
        "outputId": "d375c410-522c-4eac-ab92-2cd6e2bc55b1"
      },
      "outputs": [
        {
          "output_type": "stream",
          "name": "stdout",
          "text": [
            "Start right wheel\n",
            "End right wheel\n",
            "Start forward\n",
            "End forward\n",
            "Done!\n",
            "Start left wheel\n",
            "End left wheel\n",
            "Start forward\n",
            "End forward\n",
            "Done!\n"
          ]
        }
      ],
      "source": [
        "import time\n",
        "\n",
        "def forward():\n",
        "  print(\"Start forward\")\n",
        "  time.sleep(3)\n",
        "  print(\"End forward\")\n",
        "\n",
        "def left_wheel():\n",
        "  print(\"Start left wheel\")\n",
        "  time.sleep(3)\n",
        "  print(\"End left wheel\")\n",
        "\n",
        "def right_wheel():\n",
        "  print(\"Start right wheel\")\n",
        "  time.sleep(3)\n",
        "  print(\"End right wheel\")"
      ]
    }
  ]
}