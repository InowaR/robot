{
  "nbformat": 4,
  "nbformat_minor": 0,
  "metadata": {
    "colab": {
      "provenance": [],
      "authorship_tag": "ABX9TyNhhby41HL/ZlXaf3mjrbWd",
      "include_colab_link": true
    },
    "kernelspec": {
      "name": "python3",
      "display_name": "Python 3"
    },
    "language_info": {
      "name": "python"
    }
  },
  "cells": [
    {
      "cell_type": "markdown",
      "metadata": {
        "id": "view-in-github",
        "colab_type": "text"
      },
      "source": [
        "<a href=\"https://colab.research.google.com/github/InowaR/robot/blob/main/perceptron.ipynb\" target=\"_parent\"><img src=\"https://colab.research.google.com/assets/colab-badge.svg\" alt=\"Open In Colab\"/></a>"
      ]
    },
    {
      "cell_type": "code",
      "execution_count": 4,
      "metadata": {
        "id": "IcZaZp3Vo06q"
      },
      "outputs": [],
      "source": [
        "import numpy as np\n",
        "\n",
        "class Perceptron:\n",
        "    def __init__(self, input_size):\n",
        "        self.weights = np.zeros(input_size + 1)\n",
        "\n",
        "    def predict(self, inputs):\n",
        "        summation = np.dot(inputs, self.weights[1:]) + self.weights[0]\n",
        "        return 1 if summation > 0 else 0\n",
        "\n",
        "    def train(self, inputs, label, learning_rate=0.1, epochs=100):\n",
        "        for epoch in range(epochs):\n",
        "            for i in range(len(inputs)):\n",
        "                prediction = self.predict(inputs[i])\n",
        "                error = label[i] - prediction\n",
        "                self.weights[1:] += learning_rate * error * inputs[i]\n",
        "                self.weights[0] += learning_rate * error"
      ]
    }
  ]
}