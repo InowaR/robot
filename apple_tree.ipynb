{
  "nbformat": 4,
  "nbformat_minor": 0,
  "metadata": {
    "colab": {
      "provenance": [],
      "authorship_tag": "ABX9TyOxiMae7FhGwlHyNLt8XGD3",
      "include_colab_link": true
    },
    "kernelspec": {
      "name": "python3",
      "display_name": "Python 3"
    },
    "language_info": {
      "name": "python"
    }
  },
  "cells": [
    {
      "cell_type": "markdown",
      "metadata": {
        "id": "view-in-github",
        "colab_type": "text"
      },
      "source": [
        "<a href=\"https://colab.research.google.com/github/InowaR/robot/blob/main/apple_tree.ipynb\" target=\"_parent\"><img src=\"https://colab.research.google.com/assets/colab-badge.svg\" alt=\"Open In Colab\"/></a>"
      ]
    },
    {
      "cell_type": "code",
      "execution_count": null,
      "metadata": {
        "id": "EWOagMhjYkoE"
      },
      "outputs": [],
      "source": [
        "def agent1():\n",
        "  pass\n",
        "def move1():\n",
        "  pass\n",
        "def agent2():\n",
        "  pass\n",
        "def move2():\n",
        "  pass\n",
        "def agent3():\n",
        "  pass\n",
        "def move3():\n",
        "  pass\n",
        "def find_tree():\n",
        "  left, right, forward, backward = agent1()\n",
        "  move1(left, right, forward, backward)\n",
        "def find_apple():\n",
        "  left, right, forward, backward = agent2()\n",
        "  move2(left, right, forward, backward)\n",
        "def capture():\n",
        "  pass\n",
        "def find_backet():\n",
        "  left, right, forward, backward = agent3()\n",
        "  move3(left, right, forward, backward)\n",
        "def unload():\n",
        "  pass\n",
        "def main():\n",
        "  find_tree()\n",
        "  find_apple()\n",
        "  capture()\n",
        "  find_backet()\n",
        "  unload()\n",
        "main()"
      ]
    }
  ]
}