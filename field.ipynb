{
  "nbformat": 4,
  "nbformat_minor": 0,
  "metadata": {
    "colab": {
      "provenance": [],
      "authorship_tag": "ABX9TyO9ntFwrgaURFIxk04liAer",
      "include_colab_link": true
    },
    "kernelspec": {
      "name": "python3",
      "display_name": "Python 3"
    },
    "language_info": {
      "name": "python"
    }
  },
  "cells": [
    {
      "cell_type": "markdown",
      "metadata": {
        "id": "view-in-github",
        "colab_type": "text"
      },
      "source": [
        "<a href=\"https://colab.research.google.com/github/InowaR/robot/blob/main/field.ipynb\" target=\"_parent\"><img src=\"https://colab.research.google.com/assets/colab-badge.svg\" alt=\"Open In Colab\"/></a>"
      ]
    },
    {
      "cell_type": "code",
      "execution_count": 29,
      "metadata": {
        "colab": {
          "base_uri": "https://localhost:8080/"
        },
        "id": "Hfx-mPWT-H3S",
        "outputId": "897ac162-8b9c-4f2d-c485-1e1c813af448"
      },
      "outputs": [
        {
          "output_type": "stream",
          "name": "stdout",
          "text": [
            "Exit map\n"
          ]
        }
      ],
      "source": [
        "import numpy as np\n",
        "from google.colab import output\n",
        "\n",
        "field = np.zeros((16, 16))\n",
        "field = np.pad(field, pad_width=1, mode='constant', constant_values=1)\n",
        "\n",
        "def obstacle(x, y, len):\n",
        "  i = y\n",
        "  while i < len + y:\n",
        "    field[x][i] = 1\n",
        "    i += 1\n",
        "  return field\n",
        "\n",
        "obstacle(4,8,9)\n",
        "obstacle(9,1,9)\n",
        "obstacle(13,8,9)\n",
        "\n",
        "def play():\n",
        "  i = 15\n",
        "  j = 8\n",
        "  field[i][j] = 2\n",
        "  print(field)\n",
        "  print(\"Enter \\\"q\\\" to exit\")\n",
        "  while True:\n",
        "    try:\n",
        "      button = input()\n",
        "      output.clear()\n",
        "      if button == \"w\":\n",
        "        print(field)\n",
        "        if field[i-1][j] == 1:\n",
        "          continue  \n",
        "        field[i-1][j] = 2\n",
        "        output.clear()\n",
        "        print(field)\n",
        "        i -= 1\n",
        "      elif button == \"a\":\n",
        "        print(field)\n",
        "        if field[i][j-1] == 1:\n",
        "          continue  \n",
        "        field[i][j-1] = 2\n",
        "        output.clear()\n",
        "        print(field)\n",
        "        j -= 1\n",
        "      elif button == \"s\":\n",
        "        print(field)\n",
        "        if field[i+1][j] == 1:\n",
        "          continue  \n",
        "        field[i+1][j] = 2\n",
        "        output.clear()\n",
        "        print(field)\n",
        "        i += 1\n",
        "      elif button == \"d\":\n",
        "        if field[i][j+1] == 1:\n",
        "          print(field)\n",
        "          continue           \n",
        "        field[i][j+1] = 2\n",
        "        output.clear()\n",
        "        print(field)\n",
        "        j += 1\n",
        "      else:\n",
        "        print(\"Exit map\")\n",
        "        break\n",
        "    except:\n",
        "      print(field)\n",
        "      continue\n",
        "\n",
        "play()"
      ]
    }
  ]
}