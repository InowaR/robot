{
  "nbformat": 4,
  "nbformat_minor": 0,
  "metadata": {
    "colab": {
      "provenance": [],
      "authorship_tag": "ABX9TyONMNeHnapAUPTFbORIADar",
      "include_colab_link": true
    },
    "kernelspec": {
      "name": "python3",
      "display_name": "Python 3"
    },
    "language_info": {
      "name": "python"
    }
  },
  "cells": [
    {
      "cell_type": "markdown",
      "metadata": {
        "id": "view-in-github",
        "colab_type": "text"
      },
      "source": [
        "<a href=\"https://colab.research.google.com/github/InowaR/robot/blob/main/radar.ipynb\" target=\"_parent\"><img src=\"https://colab.research.google.com/assets/colab-badge.svg\" alt=\"Open In Colab\"/></a>"
      ]
    },
    {
      "cell_type": "code",
      "execution_count": 51,
      "metadata": {
        "colab": {
          "base_uri": "https://localhost:8080/"
        },
        "id": "Hfx-mPWT-H3S",
        "outputId": "21c85bb0-6008-4976-ec41-65db2536087d"
      },
      "outputs": [
        {
          "output_type": "stream",
          "name": "stdout",
          "text": [
            "[[1. 1. 1. 1. 1. 1. 1. 1. 1. 1. 1. 1. 1. 1. 1. 1. 1. 1.]\n",
            " [1. 0. 0. 0. 0. 0. 0. 0. 0. 0. 0. 0. 0. 0. 0. 0. 0. 1.]\n",
            " [1. 0. 0. 0. 0. 0. 0. 0. 0. 0. 0. 0. 0. 0. 0. 0. 0. 1.]\n",
            " [1. 0. 0. 0. 0. 0. 0. 0. 0. 0. 0. 0. 0. 0. 0. 0. 0. 1.]\n",
            " [1. 0. 0. 0. 0. 0. 0. 0. 1. 1. 1. 1. 1. 1. 1. 1. 1. 1.]\n",
            " [1. 0. 0. 0. 0. 0. 0. 0. 0. 0. 0. 0. 0. 0. 0. 0. 0. 1.]\n",
            " [1. 0. 0. 0. 0. 0. 0. 0. 0. 0. 0. 0. 0. 0. 0. 0. 0. 1.]\n",
            " [1. 0. 0. 0. 0. 0. 0. 0. 0. 0. 0. 0. 0. 0. 0. 0. 0. 1.]\n",
            " [1. 0. 0. 0. 0. 0. 0. 0. 0. 0. 0. 0. 0. 0. 0. 0. 0. 1.]\n",
            " [1. 1. 1. 1. 1. 1. 1. 1. 1. 1. 0. 0. 0. 0. 0. 0. 0. 1.]\n",
            " [1. 0. 0. 2. 0. 0. 0. 0. 0. 0. 0. 0. 0. 0. 0. 0. 0. 1.]\n",
            " [1. 0. 0. 0. 2. 0. 0. 0. 0. 0. 0. 0. 0. 0. 0. 0. 0. 1.]\n",
            " [1. 0. 0. 0. 0. 2. 0. 0. 0. 0. 0. 0. 0. 0. 0. 0. 0. 1.]\n",
            " [1. 0. 0. 0. 0. 0. 2. 0. 1. 1. 1. 1. 1. 1. 1. 1. 1. 1.]\n",
            " [1. 0. 0. 0. 0. 0. 0. 2. 2. 2. 0. 0. 0. 0. 0. 0. 0. 1.]\n",
            " [1. 0. 0. 0. 0. 0. 0. 0. 2. 0. 0. 0. 0. 0. 0. 0. 0. 1.]\n",
            " [1. 0. 0. 0. 0. 0. 0. 0. 0. 0. 0. 0. 0. 0. 0. 0. 0. 1.]\n",
            " [1. 1. 1. 1. 1. 1. 1. 1. 1. 1. 1. 1. 1. 1. 1. 1. 1. 1.]]\n",
            "Radar distances: (6, 2, 2)\n"
          ]
        }
      ],
      "source": [
        "import numpy as np\n",
        "from google.colab import output\n",
        "\n",
        "field = np.zeros((16, 16))\n",
        "field = np.pad(field, pad_width=1, mode='constant', constant_values=1)\n",
        "\n",
        "def obstacle(x, y, len):\n",
        "  i = y\n",
        "  while i < len + y:\n",
        "    field[x][i] = 1\n",
        "    i += 1\n",
        "  return field\n",
        "\n",
        "obstacle(4,8,9)\n",
        "obstacle(9,1,9)\n",
        "obstacle(13,8,9)\n",
        "\n",
        "def radar(x, y):\n",
        "  l = 0    #\n",
        "  m = 0    #   radar distances\n",
        "  r = 0    #\n",
        "  i = x    \n",
        "  j = y    \n",
        "  while field[i][j] != 1:\n",
        "    field[i][j] = 2\n",
        "    l += 1\n",
        "    i -= 1\n",
        "    j -= 1\n",
        "  i = x    \n",
        "  j = y    \n",
        "  while field[i][j] != 1:\n",
        "    field[i][j] = 2\n",
        "    m += 1\n",
        "    i -= 1\n",
        "  i = x    \n",
        "  j = y    \n",
        "  while field[i][j] != 1:\n",
        "    field[i][j] = 2\n",
        "    r += 1\n",
        "    i -= 1\n",
        "    j += 1\n",
        "  print(field)\n",
        "  return l, m, r\n",
        "\n",
        "input = radar(15, 8)\n",
        "print(f\"Radar distances: {input}\")"
      ]
    }
  ]
}