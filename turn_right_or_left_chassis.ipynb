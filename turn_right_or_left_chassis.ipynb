{
  "nbformat": 4,
  "nbformat_minor": 0,
  "metadata": {
    "colab": {
      "provenance": [],
      "authorship_tag": "ABX9TyMblX7FO17VZqd/Fuv8qI0n",
      "include_colab_link": true
    },
    "kernelspec": {
      "name": "python3",
      "display_name": "Python 3"
    },
    "language_info": {
      "name": "python"
    }
  },
  "cells": [
    {
      "cell_type": "markdown",
      "metadata": {
        "id": "view-in-github",
        "colab_type": "text"
      },
      "source": [
        "<a href=\"https://colab.research.google.com/github/InowaR/robot/blob/main/turn_right_or_left_chassis.ipynb\" target=\"_parent\"><img src=\"https://colab.research.google.com/assets/colab-badge.svg\" alt=\"Open In Colab\"/></a>"
      ]
    },
    {
      "cell_type": "code",
      "execution_count": 24,
      "metadata": {
        "id": "QKKvf5YA5iKL",
        "colab": {
          "base_uri": "https://localhost:8080/"
        },
        "outputId": "8df48bc5-4936-4f50-dc9e-35842e1c2962"
      },
      "outputs": [
        {
          "output_type": "stream",
          "name": "stdout",
          "text": [
            "Start right wheel\n",
            "End right wheel\n",
            "Start forward\n",
            "End forward\n",
            "Done!\n",
            "Start left wheel\n",
            "End left wheel\n",
            "Start forward\n",
            "End forward\n",
            "Done!\n"
          ]
        }
      ],
      "source": [
        "import time\n",
        "\n",
        "def forward():\n",
        "  print(\"Start forward\")\n",
        "  time.sleep(3)\n",
        "  print(\"End forward\")\n",
        "\n",
        "def left_wheel():\n",
        "  print(\"Start left wheel\")\n",
        "  time.sleep(3)\n",
        "  print(\"End left wheel\")\n",
        "\n",
        "def right_wheel():\n",
        "  print(\"Start right wheel\")\n",
        "  time.sleep(3)\n",
        "  print(\"End right wheel\")\n",
        "\n",
        "def make_turn(angle):\n",
        "  if angle < 0:\n",
        "    left_wheel()\n",
        "  if angle > 0:\n",
        "    right_wheel()\n",
        "  if angle == 0:\n",
        "    pass\n",
        "\n",
        "def move(angle):\n",
        "  make_turn(angle)\n",
        "  forward()\n",
        "  print(\"Done!\")\n",
        "\n",
        "move(20)\n",
        "move(-20)"
      ]
    }
  ]
}