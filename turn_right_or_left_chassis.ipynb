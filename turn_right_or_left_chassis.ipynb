{
  "nbformat": 4,
  "nbformat_minor": 0,
  "metadata": {
    "colab": {
      "provenance": [],
      "authorship_tag": "ABX9TyP0a9kzQfGqUnqtVIHigO7S",
      "include_colab_link": true
    },
    "kernelspec": {
      "name": "python3",
      "display_name": "Python 3"
    },
    "language_info": {
      "name": "python"
    }
  },
  "cells": [
    {
      "cell_type": "markdown",
      "metadata": {
        "id": "view-in-github",
        "colab_type": "text"
      },
      "source": [
        "<a href=\"https://colab.research.google.com/github/InowaR/robot/blob/main/turn_right_or_left_chassis.ipynb\" target=\"_parent\"><img src=\"https://colab.research.google.com/assets/colab-badge.svg\" alt=\"Open In Colab\"/></a>"
      ]
    },
    {
      "cell_type": "code",
      "execution_count": 16,
      "metadata": {
        "id": "QKKvf5YA5iKL",
        "colab": {
          "base_uri": "https://localhost:8080/"
        },
        "outputId": "a9b46ac2-0013-44dd-ce3f-95e444c53594"
      },
      "outputs": [
        {
          "output_type": "stream",
          "name": "stdout",
          "text": [
            "angle:\n",
            "-2\n",
            "distance:\n",
            "2\n",
            "Left wheel\n",
            "Move forward\n",
            "Done!\n"
          ]
        }
      ],
      "source": [
        "import time\n",
        "\n",
        "def forward(distance):\n",
        "  time.sleep(2)\n",
        "  print(\"Move forward\")\n",
        "\n",
        "def left_wheel():\n",
        "  time.sleep(2)\n",
        "  print(\"Left wheel\")\n",
        "\n",
        "def right_wheel():\n",
        "  time.sleep(2)\n",
        "  print(\"Right wheel\")\n",
        "\n",
        "def make_turn(angle):\n",
        "  if angle < 0:\n",
        "    left_wheel()\n",
        "  if angle > 0:\n",
        "    right_wheel()\n",
        "  if angle == 0:\n",
        "    pass\n",
        "\n",
        "def agent():\n",
        "  print(\"angle:\")\n",
        "  angle = int(input())\n",
        "  print(\"distance:\")\n",
        "  distance = int(input())\n",
        "  return angle, distance\n",
        "\n",
        "def move():\n",
        "  angle, distance = agent()\n",
        "  make_turn(angle)\n",
        "  forward(distance)\n",
        "  print(\"Done!\")\n",
        "\n",
        "move()"
      ]
    }
  ]
}