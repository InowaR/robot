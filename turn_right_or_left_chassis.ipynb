{
  "nbformat": 4,
  "nbformat_minor": 0,
  "metadata": {
    "colab": {
      "provenance": [],
      "authorship_tag": "ABX9TyMjtSlpzFxIWPMrTqg8a82l",
      "include_colab_link": true
    },
    "kernelspec": {
      "name": "python3",
      "display_name": "Python 3"
    },
    "language_info": {
      "name": "python"
    }
  },
  "cells": [
    {
      "cell_type": "markdown",
      "metadata": {
        "id": "view-in-github",
        "colab_type": "text"
      },
      "source": [
        "<a href=\"https://colab.research.google.com/github/InowaR/robot/blob/main/turn_right_or_left_chassis.ipynb\" target=\"_parent\"><img src=\"https://colab.research.google.com/assets/colab-badge.svg\" alt=\"Open In Colab\"/></a>"
      ]
    },
    {
      "cell_type": "code",
      "execution_count": 13,
      "metadata": {
        "id": "QKKvf5YA5iKL",
        "colab": {
          "base_uri": "https://localhost:8080/"
        },
        "outputId": "e1e46946-3e92-4b6f-d7bf-9348387d4da8"
      },
      "outputs": [
        {
          "output_type": "stream",
          "name": "stdout",
          "text": [
            "angle:\n",
            "3\n",
            "turn left\n",
            "angle:\n",
            "2\n",
            "turn left\n",
            "angle:\n",
            "1\n",
            "turn left\n",
            "angle:\n",
            "-1\n",
            "turn right\n",
            "angle:\n",
            "-2\n",
            "turn right\n",
            "angle:\n",
            "0\n",
            "distance:\n",
            "3\n",
            "move forward\n",
            "distance:\n",
            "2\n",
            "move forward\n",
            "distance:\n",
            "1\n",
            "move forward\n",
            "distance:\n",
            "0\n",
            "move forward\n",
            "Done!\n"
          ]
        }
      ],
      "source": [
        "def make_turn(angle):\n",
        "  while angle != 0:\n",
        "    print(\"angle:\")\n",
        "    angle = int(input())\n",
        "    if angle < 0:\n",
        "      left = 1\n",
        "      print(\"turn right\")\n",
        "    if angle > 0:\n",
        "      right = 1\n",
        "      print(\"turn left\")\n",
        "\n",
        "def forward(distance):\n",
        "  while distance != 0:\n",
        "    print(\"distance:\")\n",
        "    distance = int(input())\n",
        "    left = 1\n",
        "    right = 1\n",
        "    print(\"move forward\")\n",
        "\n",
        "def agent():\n",
        "  angle = 20\n",
        "  distance = 10\n",
        "  return angle, distance\n",
        "\n",
        "def move():\n",
        "  angle, distance = agent()\n",
        "  make_turn(angle)\n",
        "  forward(distance)\n",
        "  print(\"Done!-\")\n",
        "\n",
        "move()"
      ]
    }
  ]
}