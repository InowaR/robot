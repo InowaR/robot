{
  "nbformat": 4,
  "nbformat_minor": 0,
  "metadata": {
    "colab": {
      "provenance": [],
      "authorship_tag": "ABX9TyNITgK+cpR8qfJ0fimfc9ry",
      "include_colab_link": true
    },
    "kernelspec": {
      "name": "python3",
      "display_name": "Python 3"
    },
    "language_info": {
      "name": "python"
    }
  },
  "cells": [
    {
      "cell_type": "markdown",
      "metadata": {
        "id": "view-in-github",
        "colab_type": "text"
      },
      "source": [
        "<a href=\"https://colab.research.google.com/github/InowaR/robot/blob/main/turn_right_or_left_chassis.ipynb\" target=\"_parent\"><img src=\"https://colab.research.google.com/assets/colab-badge.svg\" alt=\"Open In Colab\"/></a>"
      ]
    },
    {
      "cell_type": "code",
      "execution_count": 27,
      "metadata": {
        "id": "QKKvf5YA5iKL"
      },
      "outputs": [],
      "source": [
        "right = 0\n",
        "left = 0\n",
        "renewal_condition = 0\n",
        "\n",
        "def right(angle):\n",
        "    left = 1\n",
        "    print(\"right turn\")\n",
        "    if angle == 0:\n",
        "      print(\"stop\")\n",
        "\n",
        "def left(angle):\n",
        "    right = 1\n",
        "    print(\"left turn\")\n",
        "    if angle == 0:\n",
        "      print(\"stop\")\n",
        "\n",
        "def make_turn():\n",
        "  while renewal_condition == 0:\n",
        "    renewal_condition = int(input())\n",
        "    angle = int(input())\n",
        "    if angle < 0:\n",
        "      right(angle)\n",
        "    if angle >= 0:\n",
        "      left(angle)"
      ]
    }
  ]
}